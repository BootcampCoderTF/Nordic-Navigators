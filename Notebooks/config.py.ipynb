{
 "cells": [
  {
   "cell_type": "code",
   "execution_count": 1,
   "id": "f110e9c2",
   "metadata": {},
   "outputs": [],
   "source": [
    "# Store actual API key here\n",
    "api_key = '9441103c813e18c11efd2ab8fc7fb321'\n"
   ]
  },
  {
   "cell_type": "code",
   "execution_count": null,
   "id": "54c63260",
   "metadata": {},
   "outputs": [],
   "source": []
  }
 ],
 "metadata": {
  "kernelspec": {
   "display_name": "Python 3 (ipykernel)",
   "language": "python",
   "name": "python3"
  },
  "language_info": {
   "codemirror_mode": {
    "name": "ipython",
    "version": 3
   },
   "file_extension": ".py",
   "mimetype": "text/x-python",
   "name": "python",
   "nbconvert_exporter": "python",
   "pygments_lexer": "ipython3",
   "version": "3.11.5"
  }
 },
 "nbformat": 4,
 "nbformat_minor": 5
}
