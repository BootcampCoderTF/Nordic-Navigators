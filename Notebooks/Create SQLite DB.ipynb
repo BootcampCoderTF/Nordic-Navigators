{
 "cells": [
  {
   "cell_type": "code",
   "execution_count": 1,
   "id": "e368a38b",
   "metadata": {},
   "outputs": [],
   "source": [
    "# Import the required libraries\n",
    "from sqlalchemy.ext.declarative import declarative_base\n",
    "from sqlalchemy import Column, String, Float, Integer\n",
    "from sqlalchemy import create_engine\n",
    "from sqlalchemy.orm import sessionmaker\n",
    "import pandas as pd\n",
    "import requests\n",
    "from config import api_key\n"
   ]
  },
  {
   "cell_type": "code",
   "execution_count": 2,
   "id": "625dc8f4",
   "metadata": {
    "scrolled": true
   },
   "outputs": [
    {
     "name": "stderr",
     "output_type": "stream",
     "text": [
      "C:\\Users\\maria\\AppData\\Local\\Temp\\ipykernel_2016\\1392847589.py:2: MovedIn20Warning: The ``declarative_base()`` function is now available as sqlalchemy.orm.declarative_base(). (deprecated since: 2.0) (Background on SQLAlchemy 2.0 at: https://sqlalche.me/e/b8d9)\n",
      "  Base = declarative_base()\n"
     ]
    }
   ],
   "source": [
    "# Define the base class for declarative class definitions\n",
    "Base = declarative_base()"
   ]
  },
  {
   "cell_type": "code",
   "execution_count": 3,
   "id": "e5e72854",
   "metadata": {},
   "outputs": [],
   "source": [
    "# Define the structure of your database table\n",
    "class Weather(Base):\n",
    "    __tablename__ = 'weather'\n",
    "    id = Column(Integer, primary_key=True)\n",
    "    City = Column(String)\n",
    "    Country_Code = Column(String)\n",
    "    Temperature = Column(Float)\n",
    "    Weather = Column(String)"
   ]
  },
  {
   "cell_type": "code",
   "execution_count": 4,
   "id": "a2fad826",
   "metadata": {},
   "outputs": [],
   "source": [
    "# Establish a connection to the SQLite database\n",
    "engine = create_engine('sqlite:///weather_data.db')\n",
    "Base.metadata.create_all(engine)"
   ]
  },
  {
   "cell_type": "code",
   "execution_count": 5,
   "id": "afd07d66",
   "metadata": {},
   "outputs": [],
   "source": [
    "# Create a session to interact with the database\n",
    "Session = sessionmaker(bind=engine)\n",
    "session = Session()"
   ]
  },
  {
   "cell_type": "code",
   "execution_count": 6,
   "id": "8913fb6c",
   "metadata": {},
   "outputs": [],
   "source": [
    "# OpenWeatherMap API key\n",
    "api_key = 'api_key'"
   ]
  },
  {
   "cell_type": "code",
   "execution_count": 7,
   "id": "99a603e8",
   "metadata": {},
   "outputs": [],
   "source": [
    "# Base URL for current weather data\n",
    "base_url = 'https://api.openweathermap.org/data/2.5/weather'"
   ]
  },
  {
   "cell_type": "code",
   "execution_count": 8,
   "id": "eed521a9",
   "metadata": {},
   "outputs": [],
   "source": [
    "# List of all cities\n",
    "all_cities = {'Tyrol (Tirol)', 'Salzburg (Salzburger Land)', 'Styria (Steiermark)',\n",
    " 'Vorarlberg', 'Carinthia (Karnten)', 'Upper Austria (Oberosterreich)',\n",
    " 'Lower Austria (Niederosterreich)', 'Vienna (Wien)', 'Salzkammergut',\n",
    " 'Burgenland', 'Eastern Switzerland', 'Lemanic Region', 'Espace Mittelland',\n",
    " 'Central Switzerland', 'Ticino', 'Northwestern Switzerland', 'Zurich',\n",
    " 'Trentino-Alto Adige (Trentino-Sudtirol)', 'Lombardy',\n",
    " 'Piedmont (Piemonte)', 'Venetia (Veneto)', \"Aosta Valley (Valle d'Aosta)\",\n",
    " 'Abruzzo', 'Emilia-Romagna', 'Tuscany (Toscana)', 'Friuli-Venezia Giulia',\n",
    " 'Calabria', 'Molise', 'Campania', 'Lazio', 'Basilicata', 'Sardinia (Sardegna)',\n",
    " 'Marche', 'Sicily', 'Liguria', 'Italy', 'Auvergne-Rhone-Alpes',\n",
    " \"Provence-Alpes-Cote d'Azur\", 'Occitania',\n",
    " 'New Aquitaine (Nouvelle-Aquitaine)', 'Bourgogne-Franche-Comte',\n",
    " 'Grand-Est', 'Franche-Comte', 'Corsica (Corse)', 'France', 'Andorra',\n",
    " 'Northern Finland', 'Southern Finland (Etela-Suomi)',\n",
    " 'West Finland (Lansi-Suomi)', 'East Finland (Pohjois- ja Ita-Suomi)',\n",
    " 'Catalonia (Catalunya)', 'Aragon', 'Andalusia (Andalucia)', 'La Rioja',\n",
    " 'Castile-Leon (Castilla y Leon)', 'Asturias (Asturian)', 'Cantabria',\n",
    " 'Madrid', 'Galicia', 'Spain', 'Blagoevgrad', 'Sofia', 'Smolyan', 'Bulgaria',\n",
    " 'Kyustendil', 'Gabrovo', 'Serbia-South', 'Serbia', 'Hedmark', 'Buskerud',\n",
    " 'Oppland', 'Western Norway (Vestlandet)', 'Aust-Agder', 'Telemark', 'Oslo',\n",
    " 'Sor-Trondelag', 'Vest-Agder', 'Nordland', 'Nord-Trondelag', 'Akershus',\n",
    " 'Svalbard (Spitsbergen)', 'Troms', 'Ostfold', 'Finnmark', 'Vestfold', 'Norway',\n",
    " 'Northern Sweden (Norrland)', 'Central Sweden', 'South Sweden (Sydsverige)',\n",
    " 'Banska Bystrica (Banskobystricky kraj)', 'Presov (Presovsky kraj)',\n",
    " 'Zilina (Zilinsky kraj)', 'Trencin (Trenciansky kraj)',\n",
    " 'Kosice (Kosicky kraj)', 'Bratislava', 'Bavaria (Bayern)',\n",
    " 'Baden-Wurttemberg', 'Saxony (Sachsen)',\n",
    " 'North Rhine-Westphalia (Nordrhein-Westfalen)',\n",
    " 'Central Uplands of Germany (Deutsche Mittelgebirge)',\n",
    " 'Lower Saxony (Niedersachsen)', 'Rhineland-Palatinate (Rheinland-Pfalz)',\n",
    " 'Thuringia (Thuringen)', 'Hesse (Hessen)', 'Southern Germany', 'Germany',\n",
    " 'Schleswig-Holstein', 'Brandenburg',\n",
    " 'Mecklenburg-Western Pomerania (Mecklenburg-Vorpommern)',\n",
    " 'Republika Srpska', 'Federation of Bosnia and Herzegovina',\n",
    " 'Bosnia and Herzegovina', 'Gorenjska (Upper Carniola)', 'Podravska',\n",
    " 'Goriska', 'Jugovzhodna Slovenija (Southeast Slovenia)',\n",
    " 'Carinthia (Koroska)', 'Savinjska', 'Osrednjeslovenska (Central Slovenia)',\n",
    " 'Zasavska', 'Primorsko-notranjska', 'Montenegro',\n",
    " 'Silesia (Wojewodztwo slaskie)', 'Lesser Poland (Wojewodztwo malopolskie)',\n",
    " 'Lower Silesia (Wojewodztwo dolnoslaskie)',\n",
    " 'Pomerania (Wojewodztwo pomorskie)',\n",
    " 'Subcarpathian Voivodeship (Wojewodztwo podkarpackie)',\n",
    " 'Holy Cross (Wojewodztwo swietokrzyskie)', 'Poland',\n",
    " 'Lublin (Wojewodztwo lubelskie)',\n",
    " 'Greater Poland (Wojewodztwo wielkopolskie)',\n",
    " 'Podlaskie (Wojewodztwo podlaskie)',\n",
    " 'Warmian-Masuria (Wojewodztwo warminsko-mazurskie)',\n",
    " 'Lodz (Wojewodztwo lodzkie)',\n",
    " 'Kuyavian-Pomerania (Wojewodztwo kujawsko-pomorskie)',\n",
    " 'Masovia (Wojewodztwo mazowieckie)',\n",
    " 'West Pomerania (Wojewodztwo zachodniopomorskie)', 'Liechtenstein',\n",
    " 'Ivano-Frankivsk', 'Ukraine', 'Lviv', 'Zakarpattia', 'Limburg (Netherlands)',\n",
    " 'South Holland (Zuid-Holland)', 'North Brabant (Noord-Brabant)', 'Utrecht',\n",
    " 'Gelderland', 'North Holland (Noord-Holland)', 'Zeeland', 'Central Greece',\n",
    " 'Eastern Macedonia and Thrace', 'Western Macedonia', 'Central Macedonia',\n",
    " 'Western Greece', 'Thessaly', 'Epirus', 'Greece', 'Peloponnese',\n",
    " 'South Iceland', 'Northeast Iceland', 'Westfjords (Vestfirdir)',\n",
    " 'East Iceland', 'Greater Reykjavik', 'Northwest Iceland', 'Hunedoara',\n",
    " 'Prahova', 'Brasov', 'Sibiu', 'Bihor', 'Romania', 'Harghita', 'Bistrita-Nasaud',\n",
    " 'Maramures', 'Cluj', 'Suceava', 'Iasi', 'Caras-Severin', 'Bacau', 'Neamt',\n",
    " 'Gorj', 'Timis', 'Mures', 'Covasna', 'Alba', 'Valcea', 'Scotland', 'England',\n",
    " 'Wales', 'Northern Ireland (Tuaisceart Eireann)', 'Alytus', 'Marijampole',\n",
    " 'Lithuania', 'Kaunas', 'Utena', 'Vilnius', 'Telsiai', 'Flanders (Vlaanderen)',\n",
    " 'Wallonia', 'Denmark', 'Copenhagen', 'Central Denmark (Region Midtjylland)',\n",
    " 'Southern Denmark (Syddanmark)', 'Latvia', 'Engure', 'Amata', 'Cesis',\n",
    " 'Northern Hungary (Eszak-Magyarorszag)', 'Transdanubia (Dunantul)',\n",
    " 'Central Hungary (Kozep-Magyarorszag)',\n",
    " 'Adriatic Croatia (Jadranska Hrvatska)', 'Croatia',\n",
    " 'Continental Croatia (Kontinentalna Hrvatska) ', 'Albania', 'Ida-Viru',\n",
    " 'Voru', 'Valga', 'Estonia', 'Belarus', 'Portugal', 'Ireland'}\n"
   ]
  },
  {
   "cell_type": "code",
   "execution_count": 9,
   "id": "bcbdc117",
   "metadata": {},
   "outputs": [],
   "source": [
    "# Empty list to store weather data\n",
    "weather_data = []"
   ]
  },
  {
   "cell_type": "code",
   "execution_count": 10,
   "id": "68cc718a",
   "metadata": {},
   "outputs": [],
   "source": [
    "# Iterate through the list of cities and make API requests\n",
    "for city in all_cities:\n",
    "    url = f'https://api.openweathermap.org/data/2.5/weather?q={city}&appid={api_key}'\n",
    "    response = requests.get(url)\n",
    "    if response.status_code == 200:\n",
    "        data = response.json()\n",
    "        weather_info = {\n",
    "            \"City\": city,\n",
    "            \"Country Code\": data['sys']['country'],\n",
    "            \"Temperature\": data[\"main\"][\"temp\"], \n",
    "            \"Weather\": data[\"weather\"][0][\"description\"]\n",
    "        }\n",
    "        weather_data.append(weather_info)"
   ]
  },
  {
   "cell_type": "code",
   "execution_count": 11,
   "id": "16b7de99",
   "metadata": {
    "scrolled": true
   },
   "outputs": [],
   "source": [
    "# Convert the list of dictionaries to a DataFrame\n",
    "weather_df = pd.DataFrame(weather_data)"
   ]
  },
  {
   "cell_type": "code",
   "execution_count": 12,
   "id": "b660fd91",
   "metadata": {},
   "outputs": [],
   "source": [
    "# Set pandas display options to show all rows and columns\n",
    "pd.set_option('display.max_rows', None)\n",
    "pd.set_option('display.max_columns', None)"
   ]
  },
  {
   "cell_type": "code",
   "execution_count": 14,
   "id": "11c7c971",
   "metadata": {},
   "outputs": [
    {
     "name": "stdout",
     "output_type": "stream",
     "text": [
      "Empty DataFrame\n",
      "Columns: []\n",
      "Index: []\n"
     ]
    }
   ],
   "source": [
    "# Print the DataFrame\n",
    "print(weather_df)"
   ]
  },
  {
   "cell_type": "code",
   "execution_count": null,
   "id": "d5ae040f",
   "metadata": {},
   "outputs": [],
   "source": [
    "# Iterate through the DataFrame and insert data into the database\n",
    "for index, row in weather_df.iterrows():\n",
    "    weather_entry = Weather(\n",
    "        City=row['City'],\n",
    "        Country_Code=row['Country Code'],\n",
    "        Temperature=row['Temperature'],\n",
    "        Weather=row['Weather']\n",
    "    )\n",
    "    session.add(weather_entry)"
   ]
  },
  {
   "cell_type": "code",
   "execution_count": null,
   "id": "e72bf913",
   "metadata": {},
   "outputs": [],
   "source": [
    "# Commit the changes\n",
    "session.commit()"
   ]
  },
  {
   "cell_type": "code",
   "execution_count": null,
   "id": "a012e7af",
   "metadata": {},
   "outputs": [],
   "source": [
    "# Close the session\n",
    "session.close()"
   ]
  },
  {
   "cell_type": "code",
   "execution_count": null,
   "id": "c8cabe31",
   "metadata": {},
   "outputs": [],
   "source": []
  }
 ],
 "metadata": {
  "kernelspec": {
   "display_name": "Python 3 (ipykernel)",
   "language": "python",
   "name": "python3"
  },
  "language_info": {
   "codemirror_mode": {
    "name": "ipython",
    "version": 3
   },
   "file_extension": ".py",
   "mimetype": "text/x-python",
   "name": "python",
   "nbconvert_exporter": "python",
   "pygments_lexer": "ipython3",
   "version": "3.11.5"
  }
 },
 "nbformat": 4,
 "nbformat_minor": 5
}
